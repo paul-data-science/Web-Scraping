{
 "cells": [
  {
   "cell_type": "code",
   "execution_count": 1,
   "metadata": {},
   "outputs": [],
   "source": [
    "# Dependencies\n",
    "from bs4 import BeautifulSoup\n",
    "from splinter import Browser\n",
    "import pymongo\n",
    "import time"
   ]
  },
  {
   "cell_type": "code",
   "execution_count": 2,
   "metadata": {},
   "outputs": [],
   "source": [
    "def exec_path():\n",
    "    executable_path = {'executable_path': '\\\\Users\\\\Paul-DS\\\\Downloads\\\\chromedriver.exe'}\n",
    "    return executable_path"
   ]
  },
  {
   "cell_type": "code",
   "execution_count": 3,
   "metadata": {},
   "outputs": [],
   "source": [
    "def open_Chrome():\n",
    "    browser = Browser('chrome', **exec_path(), headless=False)\n",
    "    return browser"
   ]
  },
  {
   "cell_type": "code",
   "execution_count": 4,
   "metadata": {},
   "outputs": [],
   "source": [
    "# URL Dictionary Menu:\n",
    "# 1: NASA Mars News\n",
    "# 2: JPL Mars Space Images - Featured Image\n",
    "# 3: Mars Weather\n",
    "# 4: Mars Facts\n",
    "# 5: Mars Hemispheres"
   ]
  },
  {
   "cell_type": "code",
   "execution_count": 5,
   "metadata": {},
   "outputs": [],
   "source": [
    "url = {\n",
    "    1: 'https://mars.nasa.gov/news/',\n",
    "    2: 'https://www.jpl.nasa.gov/spaceimages/?search=&category=Mars',\n",
    "    3: 'https://twitter.com/marswxreport?lang=en',\n",
    "    4: 'https://space-facts.com/mars/',\n",
    "    5: 'https://astrogeology.usgs.gov/search/results?q=hemisphere+enhanced&k1=target&v1=Mars'\n",
    "}"
   ]
  },
  {
   "cell_type": "markdown",
   "metadata": {},
   "source": [
    "### NASA Mars News"
   ]
  },
  {
   "cell_type": "code",
   "execution_count": 6,
   "metadata": {},
   "outputs": [
    {
     "name": "stdout",
     "output_type": "stream",
     "text": [
      "https://mars.nasa.gov/news/\n"
     ]
    }
   ],
   "source": [
    "browser = open_Chrome()\n",
    "\n",
    "# Retrieve 'NASA Mars News' page with splinter module\n",
    "browser.visit(url[1])\n",
    "print(url[1])\n",
    "\n",
    "# Create BeautifulSoup object; parse with html\n",
    "html = browser.html\n",
    "soup = BeautifulSoup(html, 'html.parser')"
   ]
  },
  {
   "cell_type": "code",
   "execution_count": 7,
   "metadata": {},
   "outputs": [
    {
     "name": "stdout",
     "output_type": "stream",
     "text": [
      "News  – NASA’s Mars Exploration Program \n"
     ]
    }
   ],
   "source": [
    "# Extract title text\n",
    "title = soup.title.text\n",
    "print(title)"
   ]
  },
  {
   "cell_type": "code",
   "execution_count": 9,
   "metadata": {},
   "outputs": [],
   "source": [
    "# Examine the results, then determine element that contains news info\n",
    "# results are returned as an iterable list\n",
    "nasa_mars_news = []\n",
    "results = soup.find_all('div', class_=\"image_and_description_container\")\n",
    "for result in results:\n",
    "    mars_news = {}\n",
    "    news_link=result.find('a')\n",
    "    #print(news_link.text)\n",
    "    news_summary=news_link.find('div', class_=\"rollover_description_inner\").text.strip('\\n')\n",
    "    try:\n",
    "        news_title=news_link.h3.text\n",
    "    except AttributeError:  # When H3 tag not available then use Alt tag\n",
    "        news_title_img=news_link.find_all('img',alt=True)\n",
    "        news_title=news_title_img[1]['alt'] \n",
    "    mars_news[news_title]=news_summary\n",
    "    nasa_mars_news.append(mars_news)\n",
    "\n",
    "browser.quit()"
   ]
  },
  {
   "cell_type": "code",
   "execution_count": 10,
   "metadata": {},
   "outputs": [
    {
     "data": {
      "text/plain": [
       "[{'NASA to Host Media Call on Next Mars Landing Site': 'NASA will host a media teleconference at 9 a.m. PST (noon EST) Monday, Nov. 19, to provide details about the Mars 2020 rover’s landing site on the Red Planet.'},\n",
       " {'How NASA Will Know When InSight Touches Down': 'On Nov. 26, engineers will look for a combination of signals to determine whether the next spacecraft to Mars lands safely.'},\n",
       " {'NASA Brings Mars Landing to Viewers Everywhere': \"NASA's InSight lander is scheduled to touch down on the Red Planet at approximately noon PST  on Nov. 26, with a new suite of instruments to probe below the Martian surface.\"},\n",
       " {'Curiosity on the Move Again': \"NASA's Mars Curiosity rover drove about 197 feet over the weekend to a site called Lake Orcadie, pushing its total odometry to over 12 miles.\"},\n",
       " {'The Mars InSight Landing Site Is Just Plain Perfect': 'If the InSight landing zone were ice cream, it would be vanilla.'},\n",
       " {\"Five Things to Know About InSight's Mars Landing\": \"NASA engineers will be holding their breath when their spacecraft heads into Mars' atmosphere on Nov. 26.\"},\n",
       " {'NASA Launches a New Podcast to Mars': \"NASA's new eight-episode series 'On a Mission' follows the InSight spacecraft on its journey to Mars and details the extraordinary challenges of landing on the Red Planet.\"},\n",
       " {'Update on Opportunity Rover Recovery Efforts': 'After a review of the progress of the listening campaign, NASA will continue its current strategy for attempting to make contact with the Opportunity rover for the foreseeable future.'},\n",
       " {'Third ASPIRE Test Confirms Mars 2020 Parachute a Go': 'The supersonic parachute that will handle the heaviest payload yet to the Red Planet – Mars 2020 rover – passes its final sounding rocket test with flying colors.'},\n",
       " {'NASA to Host Briefing on November Mars InSight Landing': \"A briefing on NASA's upcoming InSight Mars landing will air on Wed. Oct. 31 at 1:30 p.m. EDT (10:30 a.m. PDT) on NASA TV, the agency's website and NASA InSight Facebook Page.\"},\n",
       " {\"NASA's InSight Will Study Mars While Standing Still\": \"The lander's unique science can teach us how planets are born.\"},\n",
       " {\"NASA's First Image of Mars from a CubeSat\": 'The image was produced by one of the twin briefcase-sized MarCO spacecraft, the first CubeSats to fly to deep space.'},\n",
       " {\"The 'Claw Game' on Mars: NASA InSight Plays to Win\": \"NASA's InSight lander will be the first mission to use a robotic arm to grasp instruments from the spacecraft and place them on the surface of another planet. \"},\n",
       " {'Scientists to Debate Landing Site for Next Mars Rover': \"Hundreds of scientists and Mars-exploration enthusiasts gather this week to present, discuss and deliberate the future landing site for NASA's next Red Planet. \"},\n",
       " {'Mars Virtual Reality Software Wins NASA Award': \"A mixed-reality software that allows scientists and engineers to virtually walk on Mars has received NASA's 2018 Software of the Year Award.\"},\n",
       " {'Painting Cars for Mars': \"What does NASA do to get a rover ready for Mars? JPL's paint shop does a thousand different paint jobs a year. And while every piece of spacecraft that comes through the shop is important, one headed for the Red Planet adds a little extra oomph.\"},\n",
       " {'Opportunity Emerges in a Dusty Picture': \"NASA still hasn't heard from the Opportunity rover, but at least the agency can see it again.\"},\n",
       " {'NASA Seeking Partner in Contest to Name Next Mars Rover': 'NASA has a class assignment for corporations, nonprofits and educational organizations involved in science and space exploration: partner with the agency to inspire future engineers and scientists by sponsoring a contest to name the next rover to venture to the Red Planet.'},\n",
       " {\"NASA's MAVEN Selfie Marks Four Years in Orbit at Mars\": 'NASA’s MAVEN spacecraft celebrates four years in Mars orbit with a selfie.'},\n",
       " {'MarCO Makes Space for Small Explorers': 'A pair of NASA CubeSats flying to Mars are opening a new frontier for small spacecraft.'},\n",
       " {'Curiosity Surveys a Mystery Under Dusty Skies': \"NASA's Curiosity rover surveyed its surroundings on Mars, producing a 360-degree panorama of its current location on Vera Rubin Ridge.\"},\n",
       " {\"NASA's InSight Has a Thermometer for Mars\": \"The mission's heat probe could reveal how the planet's towering volcanoes formed.\"},\n",
       " {'Digital Creators: Apply for NASA Mars Landing Event': \"Up to 30 multimedia participants will be selected for a special two-day event at JPL culminating in the InSight spacecraft's landing on Mars. Apply by Sept. 3.\"},\n",
       " {\"NASA's InSight Passes Halfway to Mars, Instruments Check In\": \"NASA's InSight spacecraft, en route to a Nov. 26 landing on Mars, passed the halfway mark on Aug. 6. All of its instruments have been tested and are working well.\"},\n",
       " {\"Six Things About Opportunity's Recovery Efforts\": 'The global dust storm on Mars could soon let in enough sunlight for the Opportunity rover to recharge.'},\n",
       " {\"Meet the People Behind NASA's InSight Mars Lander\": 'A series of NASA videos highlight scientists and engineers leading the next mission to Mars.'},\n",
       " {'Mars Terraforming Not Possible Using Present-Day Technology': 'Transforming the inhospitable Martian environment into a place astronauts could explore without life support is not possible without technology well beyond today’s capabilities.'},\n",
       " {'Opportunity Hunkers Down During Dust Storm': \"It's the beginning of the end for the planet-encircling dust storm on Mars. But it could still be weeks, or even months, before skies are clear enough for NASA's Opportunity rover to recharge its batteries and phone home. \"},\n",
       " {'NASA Statement on Possible Subsurface Lake near Martian South Pole': \"A new paper suggests that liquid water may be sitting under a layer of ice at Mars' south pole.\"},\n",
       " {\"JPL's 'Martians' Are Coming to Griffith Observatory\": \"On July 30, when Mars and Earth are closer than they've been since 2003, JPL scientists and engineers will be at a free public event at Griffith Observatory in Los Angeles.\"},\n",
       " {\"NASA's MAVEN Spacecraft Finds That 'Stolen' Electrons Enable Unusual Aurora on Mars\": 'Auroras appear on Earth as ghostly displays of colorful light in the night sky, usually near the poles.'},\n",
       " {\"'Storm Chasers' on Mars Searching for Dusty Secrets\": \"Scientists with NASA's Mars orbiters have been waiting years for an event like the current Mars global dust storm.\"},\n",
       " {'NASA Mars Mission Adds Southern California Dates': \"Looking for summer fun? Southern California families have their choice of the beach, movies, museums -- and even NASA's next mission to Mars.\"},\n",
       " {'Curiosity Captures Photos of Thickening Dust': 'A storm of tiny dust particles has engulfed much of Mars over the last two weeks.'},\n",
       " {'NASA Encounters the Perfect Storm for Science': 'One of the most intense Martian dust storms ever observed is being studied by a record number of NASA spacecraft.'},\n",
       " {'Media Telecon About Mars Dust Storm, Opportunity': 'NASA will host a media telecon on Wednesday, June 13, about a massive Martian dust storm affecting the Opportunity rover, and how various missions can obtain unique science.'},\n",
       " {'NASA Finds Ancient Organic Material, Mysterious Methane on Mars': 'NASA’s Curiosity rover has found evidence on Mars with implications for NASA’s search for life.'},\n",
       " {'NASA to Host Live Discussion on New Mars Science Results': \"Questions are welcome during a live discussion at 11 a.m. PDT (2 p.m. EDT) Thursday, June 7, on new science results from NASA's Mars Curiosity rover.\"},\n",
       " {\"Mars Curiosity's Labs Are Back in Action\": \"NASA's Curiosity rover is analyzing drilled samples on Mars in one of its onboard labs for the first time in more than a year.\"},\n",
       " {'NASA CubeSats Steer Toward Mars': 'NASA has achieved a first for the class of tiny spacecraft known as CubeSats, which are opening new access to space.'},\n",
       " {'NASA is Ready to Study the Heart of Mars': 'NASA is about to go on a journey to study the center of Mars.'},\n",
       " {'NASA Briefing on First Mission to Study Mars Interior': 'NASA’s next mission to Mars will be the topic of a media briefing Thursday, March 29, at JPL. The briefing will air live on NASA Television and the agency’s website.'},\n",
       " {\"New 'AR' Mobile App Features 3-D NASA Spacecraft\": \"NASA spacecraft travel to far-off destinations in space, but a new mobile app produced by NASA's Jet Propulsion Laboratory, Pasadena, California, brings spacecraft to users.\"},\n",
       " {'Opportunity Hunkers Down During Dust Storm': \"It's the beginning of the end for the planet-encircling dust storm on Mars. But it could still be weeks, or even months, before skies are clear enough for NASA's Opportunity rover to recharge its batteries and phone home. \"},\n",
       " {'NASA Finds Ancient Organic Material, Mysterious Methane on Mars': 'NASA’s Curiosity rover has found evidence on Mars with implications for NASA’s search for life.'},\n",
       " {'NASA Invests in Visionary Technology ': 'NASA is investing in technology concepts, including several from JPL, that may one day be used for future space exploration missions.'},\n",
       " {'NASA is Ready to Study the Heart of Mars': 'NASA is about to go on a journey to study the center of Mars.'},\n",
       " {'NASA Briefing on First Mission to Study Mars Interior': 'NASA’s next mission to Mars will be the topic of a media briefing Thursday, March 29, at JPL. The briefing will air live on NASA Television and the agency’s website.'},\n",
       " {\"New 'AR' Mobile App Features 3-D NASA Spacecraft\": \"NASA spacecraft travel to far-off destinations in space, but a new mobile app produced by NASA's Jet Propulsion Laboratory, Pasadena, California, brings spacecraft to users.\"},\n",
       " {'Opportunity Hunkers Down During Dust Storm': \"It's the beginning of the end for the planet-encircling dust storm on Mars. But it could still be weeks, or even months, before skies are clear enough for NASA's Opportunity rover to recharge its batteries and phone home. \"},\n",
       " {'NASA Finds Ancient Organic Material, Mysterious Methane on Mars': 'NASA’s Curiosity rover has found evidence on Mars with implications for NASA’s search for life.'},\n",
       " {'NASA Invests in Visionary Technology ': 'NASA is investing in technology concepts, including several from JPL, that may one day be used for future space exploration missions.'}]"
      ]
     },
     "execution_count": 10,
     "metadata": {},
     "output_type": "execute_result"
    }
   ],
   "source": [
    "nasa_mars_news"
   ]
  },
  {
   "cell_type": "markdown",
   "metadata": {},
   "source": [
    "### JPL Mars Space Images - Featured Image"
   ]
  },
  {
   "cell_type": "code",
   "execution_count": 11,
   "metadata": {},
   "outputs": [
    {
     "name": "stdout",
     "output_type": "stream",
     "text": [
      "https://www.jpl.nasa.gov/spaceimages/?search=&category=Mars\n"
     ]
    }
   ],
   "source": [
    "browser = open_Chrome()\n",
    "\n",
    "# Retrieve 'JPL Mars Space Images - Featured Image' page with splinter module\n",
    "browser.visit(url[2])\n",
    "print(url[2])\n",
    "\n",
    "# Create BeautifulSoup object; parse with html\n",
    "html = browser.html\n",
    "soup = BeautifulSoup(html, 'html.parser')\n",
    "time.sleep(1)"
   ]
  },
  {
   "cell_type": "code",
   "execution_count": 12,
   "metadata": {},
   "outputs": [
    {
     "data": {
      "text/plain": [
       "<footer>\n",
       "<a class=\"button fancybox\" data-description=\"This composite is a mosaic comprising four individual Rosetta NAVCAM images taken from 19 miles from the center of comet 67P/Churyumov-Gerasimenko.\" data-fancybox-group=\"images\" data-fancybox-href=\"/spaceimages/images/mediumsize/PIA18899_ip.jpg\" data-link=\"/spaceimages/details.php?id=PIA18899\" data-title=\"Rosetta Comet\" id=\"full_image\">\n",
       "\t\t\t\t\tFULL IMAGE\n",
       "\t\t\t\t  </a>\n",
       "</footer>"
      ]
     },
     "execution_count": 12,
     "metadata": {},
     "output_type": "execute_result"
    }
   ],
   "source": [
    "soup.find('footer')"
   ]
  },
  {
   "cell_type": "code",
   "execution_count": 13,
   "metadata": {},
   "outputs": [],
   "source": [
    "browser.click_link_by_id('full_image')"
   ]
  },
  {
   "cell_type": "code",
   "execution_count": 14,
   "metadata": {},
   "outputs": [],
   "source": [
    "soup=BeautifulSoup(browser.html,'html.parser')"
   ]
  },
  {
   "cell_type": "code",
   "execution_count": 15,
   "metadata": {
    "scrolled": true
   },
   "outputs": [
    {
     "data": {
      "text/plain": [
       "[<a class=\"button fancybox\" data-description=\"This composite is a mosaic comprising four individual Rosetta NAVCAM images taken from 19 miles from the center of comet 67P/Churyumov-Gerasimenko.\" data-fancybox-group=\"images\" data-fancybox-href=\"/spaceimages/images/mediumsize/PIA18899_ip.jpg\" data-link=\"/spaceimages/details.php?id=PIA18899\" data-title=\"Rosetta Comet\" id=\"full_image\">\n",
       " \t\t\t\t\tFULL IMAGE\n",
       " \t\t\t\t  </a>, <a class=\"button\" href=\"\">\n",
       " \t\t\t\tMORE\n",
       " \t\t\t  </a>, <a class=\"button\" href=\"/spaceimages/details.php?id=PIA18899 \" target=\"_top\">more info     </a>]"
      ]
     },
     "execution_count": 15,
     "metadata": {},
     "output_type": "execute_result"
    }
   ],
   "source": [
    "soup.find_all('a', class_='button')"
   ]
  },
  {
   "cell_type": "code",
   "execution_count": 16,
   "metadata": {},
   "outputs": [
    {
     "name": "stdout",
     "output_type": "stream",
     "text": [
      "clicked more info button\n"
     ]
    }
   ],
   "source": [
    "try:\n",
    "    time.sleep(5)\n",
    "    browser.click_link_by_partial_text('more info')\n",
    "    print('clicked more info button')\n",
    "except:\n",
    "    time.sleep(5)\n",
    "    browser.click_link_by_partial_href('/spaceimages/details.php?id=')\n",
    "    print('clicked href link')"
   ]
  },
  {
   "cell_type": "code",
   "execution_count": 17,
   "metadata": {},
   "outputs": [],
   "source": [
    "browser.click_link_by_partial_href('/spaceimages/images/largesize')"
   ]
  },
  {
   "cell_type": "code",
   "execution_count": 18,
   "metadata": {},
   "outputs": [
    {
     "name": "stdout",
     "output_type": "stream",
     "text": [
      "https://www.jpl.nasa.gov/spaceimages/images/largesize/PIA18899_hires.jpg\n"
     ]
    }
   ],
   "source": [
    "nasa_mars_featured_image_url=browser.url\n",
    "print(nasa_mars_featured_image_url)"
   ]
  },
  {
   "cell_type": "code",
   "execution_count": 19,
   "metadata": {},
   "outputs": [],
   "source": [
    "# (Re)Create dict()\n",
    "nasa_mars_featured_image={}\n",
    "nasa_mars_featured_image[\"nasa_mars_featured_image_url\"]=nasa_mars_featured_image_url"
   ]
  },
  {
   "cell_type": "code",
   "execution_count": 20,
   "metadata": {},
   "outputs": [
    {
     "data": {
      "text/plain": [
       "{'nasa_mars_featured_image_url': 'https://www.jpl.nasa.gov/spaceimages/images/largesize/PIA18899_hires.jpg'}"
      ]
     },
     "execution_count": 20,
     "metadata": {},
     "output_type": "execute_result"
    }
   ],
   "source": [
    "nasa_mars_featured_image"
   ]
  },
  {
   "cell_type": "code",
   "execution_count": 21,
   "metadata": {},
   "outputs": [],
   "source": [
    "browser.quit()"
   ]
  },
  {
   "cell_type": "markdown",
   "metadata": {},
   "source": [
    "### Mars Weather"
   ]
  },
  {
   "cell_type": "code",
   "execution_count": 22,
   "metadata": {},
   "outputs": [
    {
     "name": "stdout",
     "output_type": "stream",
     "text": [
      "https://twitter.com/marswxreport?lang=en\n"
     ]
    }
   ],
   "source": [
    "browser = open_Chrome()\n",
    "\n",
    "# Retrieve 'Mars Weather' twitter page with splinter module\n",
    "browser.visit(url[3])\n",
    "print(url[3])\n",
    "# Create BeautifulSoup object; parse with html\n",
    "html = browser.html\n",
    "soup = BeautifulSoup(html, 'html.parser')\n",
    "time.sleep(1)"
   ]
  },
  {
   "cell_type": "code",
   "execution_count": 23,
   "metadata": {},
   "outputs": [
    {
     "name": "stdout",
     "output_type": "stream",
     "text": [
      "Sol 2229 (2018-11-13), high -2C/28F, low -71C/-95F, pressure at 8.62 hPa, daylight 06:22-18:39\n"
     ]
    }
   ],
   "source": [
    "# Scrape the latest Mars weather tweet from the page. \n",
    "# Save the tweet text for the weather report as a variable called `mars_weather`.\n",
    "\n",
    "# Get first Top tweet on twitter page\n",
    "mars_weather = soup.find('div', class_=\"js-tweet-text-container\").p.text\n",
    "print(mars_weather)"
   ]
  },
  {
   "cell_type": "code",
   "execution_count": 24,
   "metadata": {},
   "outputs": [],
   "source": [
    "twitter_mars_weather={}\n",
    "twitter_mars_weather[\"mars_weather\"]=mars_weather"
   ]
  },
  {
   "cell_type": "code",
   "execution_count": 25,
   "metadata": {},
   "outputs": [
    {
     "data": {
      "text/plain": [
       "{'mars_weather': 'Sol 2229 (2018-11-13), high -2C/28F, low -71C/-95F, pressure at 8.62 hPa, daylight 06:22-18:39'}"
      ]
     },
     "execution_count": 25,
     "metadata": {},
     "output_type": "execute_result"
    }
   ],
   "source": [
    "twitter_mars_weather"
   ]
  },
  {
   "cell_type": "code",
   "execution_count": 26,
   "metadata": {},
   "outputs": [],
   "source": [
    "browser.quit()"
   ]
  },
  {
   "cell_type": "markdown",
   "metadata": {},
   "source": [
    "### Mars Hemispheres"
   ]
  },
  {
   "cell_type": "code",
   "execution_count": 27,
   "metadata": {},
   "outputs": [
    {
     "name": "stdout",
     "output_type": "stream",
     "text": [
      "https://astrogeology.usgs.gov/search/results?q=hemisphere+enhanced&k1=target&v1=Mars\n"
     ]
    }
   ],
   "source": [
    "browser = open_Chrome()\n",
    "\n",
    "# Retrieve 'Mars Hemispheres' page with splinter module\n",
    "browser.visit(url[5])\n",
    "print(url[5])\n",
    "\n",
    "# Create BeautifulSoup object; parse with html\n",
    "html = browser.html\n",
    "soup = BeautifulSoup(html, 'html.parser')\n",
    "time.sleep(1)"
   ]
  },
  {
   "cell_type": "code",
   "execution_count": 28,
   "metadata": {},
   "outputs": [
    {
     "name": "stdout",
     "output_type": "stream",
     "text": [
      "Cerberus Hemisphere Enhanced\n",
      "http://astropedia.astrogeology.usgs.gov/download/Mars/Viking/cerberus_enhanced.tif/full.jpg\n",
      "Schiaparelli Hemisphere Enhanced\n",
      "http://astropedia.astrogeology.usgs.gov/download/Mars/Viking/schiaparelli_enhanced.tif/full.jpg\n",
      "Syrtis Major Hemisphere Enhanced\n",
      "http://astropedia.astrogeology.usgs.gov/download/Mars/Viking/syrtis_major_enhanced.tif/full.jpg\n",
      "Valles Marineris Hemisphere Enhanced\n",
      "http://astropedia.astrogeology.usgs.gov/download/Mars/Viking/valles_marineris_enhanced.tif/full.jpg\n",
      "[{'title': 'Cerberus Hemisphere Enhanced', 'image_url': 'http://astropedia.astrogeology.usgs.gov/download/Mars/Viking/cerberus_enhanced.tif/full.jpg'}, {'title': 'Schiaparelli Hemisphere Enhanced', 'image_url': 'http://astropedia.astrogeology.usgs.gov/download/Mars/Viking/schiaparelli_enhanced.tif/full.jpg'}, {'title': 'Syrtis Major Hemisphere Enhanced', 'image_url': 'http://astropedia.astrogeology.usgs.gov/download/Mars/Viking/syrtis_major_enhanced.tif/full.jpg'}, {'title': 'Valles Marineris Hemisphere Enhanced', 'image_url': 'http://astropedia.astrogeology.usgs.gov/download/Mars/Viking/valles_marineris_enhanced.tif/full.jpg'}]\n"
     ]
    }
   ],
   "source": [
    "# Obtain high resolution images for each of Mar's hemispheres.\n",
    "\n",
    "# Navigate the site and find then click each of the links to the hemispheres in \n",
    "# order to find the image url to the full resolution image.\n",
    "results = soup.find_all('div', class_=\"item\")\n",
    "nasa_mars_hemisphere_image_urls=[]\n",
    "for result in results:\n",
    "    title_image_url={}\n",
    "    href_string=result.find('div',class_='description').a.string\n",
    "    print(href_string)\n",
    "    try:\n",
    "        browser.click_link_by_partial_text(href_string)\n",
    "        html=browser.html\n",
    "        soup=BeautifulSoup(html, 'html.parser')\n",
    "        download_url=soup.find_all('div',class_='downloads')\n",
    "        #print(download_url)\n",
    "        for download in download_url:\n",
    "            #print(download.find('a').text)\n",
    "            image_url=download.a['href']\n",
    "            print(image_url)\n",
    "        title_image_url['title']=href_string\n",
    "        title_image_url['image_url']=image_url\n",
    "        nasa_mars_hemisphere_image_urls.append(title_image_url)\n",
    "    # Go back to initial page with splinter module to click on next div item\n",
    "        browser.visit(url[5])\n",
    "    except ElementDoesNotExist:\n",
    "        print(\"Scraping Complete\")\n",
    "browser.quit()\n",
    "print(nasa_mars_hemisphere_image_urls)"
   ]
  },
  {
   "cell_type": "markdown",
   "metadata": {},
   "source": [
    "### Mars Facts"
   ]
  },
  {
   "cell_type": "code",
   "execution_count": 29,
   "metadata": {},
   "outputs": [],
   "source": [
    "import pandas as pd"
   ]
  },
  {
   "cell_type": "code",
   "execution_count": 30,
   "metadata": {},
   "outputs": [],
   "source": [
    "mars_space_facts_url = url[4]"
   ]
  },
  {
   "cell_type": "code",
   "execution_count": 43,
   "metadata": {},
   "outputs": [
    {
     "data": {
      "text/plain": [
       "[                      0                              1\n",
       " 0  Equatorial Diameter:                       6,792 km\n",
       " 1       Polar Diameter:                       6,752 km\n",
       " 2                 Mass:  6.42 x 10^23 kg (10.7% Earth)\n",
       " 3                Moons:            2 (Phobos & Deimos)\n",
       " 4       Orbit Distance:       227,943,824 km (1.52 AU)\n",
       " 5         Orbit Period:           687 days (1.9 years)\n",
       " 6  Surface Temperature:                  -153 to 20 °C\n",
       " 7         First Record:              2nd millennium BC\n",
       " 8          Recorded By:           Egyptian astronomers]"
      ]
     },
     "execution_count": 43,
     "metadata": {},
     "output_type": "execute_result"
    }
   ],
   "source": [
    "tables = pd.read_html(mars_space_facts_url)\n",
    "tables"
   ]
  },
  {
   "cell_type": "code",
   "execution_count": 32,
   "metadata": {},
   "outputs": [
    {
     "data": {
      "text/plain": [
       "list"
      ]
     },
     "execution_count": 32,
     "metadata": {},
     "output_type": "execute_result"
    }
   ],
   "source": [
    "type(tables)"
   ]
  },
  {
   "cell_type": "code",
   "execution_count": 37,
   "metadata": {},
   "outputs": [],
   "source": [
    "mars_facts={}\n",
    "mars_facts[\"table\"]=tables"
   ]
  },
  {
   "cell_type": "code",
   "execution_count": 38,
   "metadata": {},
   "outputs": [
    {
     "data": {
      "text/plain": [
       "{'table': [                                        Measurement\n",
       "  Metric                                             \n",
       "  Equatorial Diameter:                       6,792 km\n",
       "  Polar Diameter:                            6,752 km\n",
       "  Mass:                 6.42 x 10^23 kg (10.7% Earth)\n",
       "  Moons:                          2 (Phobos & Deimos)\n",
       "  Orbit Distance:            227,943,824 km (1.52 AU)\n",
       "  Orbit Period:                  687 days (1.9 years)\n",
       "  Surface Temperature:                  -153 to 20 °C\n",
       "  First Record:                     2nd millennium BC\n",
       "  Recorded By:                   Egyptian astronomers]}"
      ]
     },
     "execution_count": 38,
     "metadata": {},
     "output_type": "execute_result"
    }
   ],
   "source": [
    "mars_facts"
   ]
  },
  {
   "cell_type": "code",
   "execution_count": 44,
   "metadata": {},
   "outputs": [
    {
     "data": {
      "text/html": [
       "<div>\n",
       "<style scoped>\n",
       "    .dataframe tbody tr th:only-of-type {\n",
       "        vertical-align: middle;\n",
       "    }\n",
       "\n",
       "    .dataframe tbody tr th {\n",
       "        vertical-align: top;\n",
       "    }\n",
       "\n",
       "    .dataframe thead th {\n",
       "        text-align: right;\n",
       "    }\n",
       "</style>\n",
       "<table border=\"1\" class=\"dataframe\">\n",
       "  <thead>\n",
       "    <tr style=\"text-align: right;\">\n",
       "      <th></th>\n",
       "      <th>Metric</th>\n",
       "      <th>Measurement</th>\n",
       "    </tr>\n",
       "  </thead>\n",
       "  <tbody>\n",
       "    <tr>\n",
       "      <th>0</th>\n",
       "      <td>Equatorial Diameter:</td>\n",
       "      <td>6,792 km</td>\n",
       "    </tr>\n",
       "    <tr>\n",
       "      <th>1</th>\n",
       "      <td>Polar Diameter:</td>\n",
       "      <td>6,752 km</td>\n",
       "    </tr>\n",
       "    <tr>\n",
       "      <th>2</th>\n",
       "      <td>Mass:</td>\n",
       "      <td>6.42 x 10^23 kg (10.7% Earth)</td>\n",
       "    </tr>\n",
       "    <tr>\n",
       "      <th>3</th>\n",
       "      <td>Moons:</td>\n",
       "      <td>2 (Phobos &amp; Deimos)</td>\n",
       "    </tr>\n",
       "    <tr>\n",
       "      <th>4</th>\n",
       "      <td>Orbit Distance:</td>\n",
       "      <td>227,943,824 km (1.52 AU)</td>\n",
       "    </tr>\n",
       "    <tr>\n",
       "      <th>5</th>\n",
       "      <td>Orbit Period:</td>\n",
       "      <td>687 days (1.9 years)</td>\n",
       "    </tr>\n",
       "    <tr>\n",
       "      <th>6</th>\n",
       "      <td>Surface Temperature:</td>\n",
       "      <td>-153 to 20 °C</td>\n",
       "    </tr>\n",
       "    <tr>\n",
       "      <th>7</th>\n",
       "      <td>First Record:</td>\n",
       "      <td>2nd millennium BC</td>\n",
       "    </tr>\n",
       "    <tr>\n",
       "      <th>8</th>\n",
       "      <td>Recorded By:</td>\n",
       "      <td>Egyptian astronomers</td>\n",
       "    </tr>\n",
       "  </tbody>\n",
       "</table>\n",
       "</div>"
      ],
      "text/plain": [
       "                 Metric                    Measurement\n",
       "0  Equatorial Diameter:                       6,792 km\n",
       "1       Polar Diameter:                       6,752 km\n",
       "2                 Mass:  6.42 x 10^23 kg (10.7% Earth)\n",
       "3                Moons:            2 (Phobos & Deimos)\n",
       "4       Orbit Distance:       227,943,824 km (1.52 AU)\n",
       "5         Orbit Period:           687 days (1.9 years)\n",
       "6  Surface Temperature:                  -153 to 20 °C\n",
       "7         First Record:              2nd millennium BC\n",
       "8          Recorded By:           Egyptian astronomers"
      ]
     },
     "execution_count": 44,
     "metadata": {},
     "output_type": "execute_result"
    }
   ],
   "source": [
    "df=tables[0]\n",
    "df.columns=['Metric','Measurement']\n",
    "df"
   ]
  },
  {
   "cell_type": "code",
   "execution_count": 34,
   "metadata": {},
   "outputs": [],
   "source": [
    "df.set_index('Metric',inplace=True)"
   ]
  },
  {
   "cell_type": "code",
   "execution_count": 35,
   "metadata": {},
   "outputs": [
    {
     "data": {
      "text/plain": [
       "Index(['Equatorial Diameter:', 'Polar Diameter:', 'Mass:', 'Moons:',\n",
       "       'Orbit Distance:', 'Orbit Period:', 'Surface Temperature:',\n",
       "       'First Record:', 'Recorded By:'],\n",
       "      dtype='object', name='Metric')"
      ]
     },
     "execution_count": 35,
     "metadata": {},
     "output_type": "execute_result"
    }
   ],
   "source": [
    "df.index"
   ]
  },
  {
   "cell_type": "code",
   "execution_count": 36,
   "metadata": {},
   "outputs": [
    {
     "data": {
      "text/plain": [
       "'<table border=\"1\" class=\"dataframe\">\\n  <thead>\\n    <tr style=\"text-align: right;\">\\n      <th></th>\\n      <th>Measurement</th>\\n    </tr>\\n    <tr>\\n      <th>Metric</th>\\n      <th></th>\\n    </tr>\\n  </thead>\\n  <tbody>\\n    <tr>\\n      <th>Equatorial Diameter:</th>\\n      <td>6,792 km</td>\\n    </tr>\\n    <tr>\\n      <th>Polar Diameter:</th>\\n      <td>6,752 km</td>\\n    </tr>\\n    <tr>\\n      <th>Mass:</th>\\n      <td>6.42 x 10^23 kg (10.7% Earth)</td>\\n    </tr>\\n    <tr>\\n      <th>Moons:</th>\\n      <td>2 (Phobos &amp; Deimos)</td>\\n    </tr>\\n    <tr>\\n      <th>Orbit Distance:</th>\\n      <td>227,943,824 km (1.52 AU)</td>\\n    </tr>\\n    <tr>\\n      <th>Orbit Period:</th>\\n      <td>687 days (1.9 years)</td>\\n    </tr>\\n    <tr>\\n      <th>Surface Temperature:</th>\\n      <td>-153 to 20 °C</td>\\n    </tr>\\n    <tr>\\n      <th>First Record:</th>\\n      <td>2nd millennium BC</td>\\n    </tr>\\n    <tr>\\n      <th>Recorded By:</th>\\n      <td>Egyptian astronomers</td>\\n    </tr>\\n  </tbody>\\n</table>'"
      ]
     },
     "execution_count": 36,
     "metadata": {},
     "output_type": "execute_result"
    }
   ],
   "source": [
    "html_table = df.to_html()\n",
    "html_table"
   ]
  },
  {
   "cell_type": "code",
   "execution_count": 46,
   "metadata": {},
   "outputs": [],
   "source": [
    "html_table=html_table.replace('\\n', '')"
   ]
  },
  {
   "cell_type": "code",
   "execution_count": 47,
   "metadata": {},
   "outputs": [
    {
     "data": {
      "text/plain": [
       "'<table border=\"1\" class=\"dataframe\">  <thead>    <tr style=\"text-align: right;\">      <th></th>      <th>Measurement</th>    </tr>    <tr>      <th>Metric</th>      <th></th>    </tr>  </thead>  <tbody>    <tr>      <th>Equatorial Diameter:</th>      <td>6,792 km</td>    </tr>    <tr>      <th>Polar Diameter:</th>      <td>6,752 km</td>    </tr>    <tr>      <th>Mass:</th>      <td>6.42 x 10^23 kg (10.7% Earth)</td>    </tr>    <tr>      <th>Moons:</th>      <td>2 (Phobos &amp; Deimos)</td>    </tr>    <tr>      <th>Orbit Distance:</th>      <td>227,943,824 km (1.52 AU)</td>    </tr>    <tr>      <th>Orbit Period:</th>      <td>687 days (1.9 years)</td>    </tr>    <tr>      <th>Surface Temperature:</th>      <td>-153 to 20 °C</td>    </tr>    <tr>      <th>First Record:</th>      <td>2nd millennium BC</td>    </tr>    <tr>      <th>Recorded By:</th>      <td>Egyptian astronomers</td>    </tr>  </tbody></table>'"
      ]
     },
     "execution_count": 47,
     "metadata": {},
     "output_type": "execute_result"
    }
   ],
   "source": [
    "html_table"
   ]
  },
  {
   "cell_type": "code",
   "execution_count": 48,
   "metadata": {},
   "outputs": [
    {
     "data": {
      "text/plain": [
       "str"
      ]
     },
     "execution_count": 48,
     "metadata": {},
     "output_type": "execute_result"
    }
   ],
   "source": [
    "type(html_table)"
   ]
  },
  {
   "cell_type": "code",
   "execution_count": 49,
   "metadata": {},
   "outputs": [],
   "source": [
    "mars_fact_html_table={}"
   ]
  },
  {
   "cell_type": "code",
   "execution_count": 50,
   "metadata": {},
   "outputs": [],
   "source": [
    "mars_fact_html_table[\"html_table\"]=html_table"
   ]
  },
  {
   "cell_type": "code",
   "execution_count": 51,
   "metadata": {},
   "outputs": [],
   "source": [
    "df.to_html('table.html')"
   ]
  },
  {
   "cell_type": "code",
   "execution_count": 52,
   "metadata": {},
   "outputs": [],
   "source": [
    "mars_facts={}\n",
    "mars_facts[\"table_url\"]=\"table.html\""
   ]
  },
  {
   "cell_type": "code",
   "execution_count": 53,
   "metadata": {},
   "outputs": [
    {
     "data": {
      "text/plain": [
       "{'table_url': 'table.html'}"
      ]
     },
     "execution_count": 53,
     "metadata": {},
     "output_type": "execute_result"
    }
   ],
   "source": [
    "mars_facts"
   ]
  },
  {
   "cell_type": "markdown",
   "metadata": {},
   "source": [
    "## Step 2 - MongoDB and Flask Application"
   ]
  },
  {
   "cell_type": "code",
   "execution_count": 54,
   "metadata": {},
   "outputs": [],
   "source": [
    "# Establish a connection to MongoDB with PyMongo you use the MongoClient class\n",
    "conn = 'mongodb://localhost:27017'\n",
    "client = pymongo.MongoClient(conn)"
   ]
  },
  {
   "cell_type": "code",
   "execution_count": 55,
   "metadata": {},
   "outputs": [],
   "source": [
    "# create a database object referencing a new database, called 'nasa_mars_landing_db'\n",
    "db = client.nasa_mars_landing_db"
   ]
  },
  {
   "cell_type": "code",
   "execution_count": 56,
   "metadata": {},
   "outputs": [],
   "source": [
    "# List of dictionaries and assigned variables from above:\n",
    "#print(nasa_mars_featured_image_url)\n",
    "#print(mars_weather)\n",
    "#print(html_table)\n",
    "#print(nasa_mars_hemisphere_image_urls)\n",
    "#print(nasa_mars_news)\n"
   ]
  },
  {
   "cell_type": "markdown",
   "metadata": {},
   "source": [
    "### JPL Mars Space Images - Featured Image"
   ]
  },
  {
   "cell_type": "code",
   "execution_count": 57,
   "metadata": {},
   "outputs": [
    {
     "data": {
      "text/plain": [
       "<pymongo.results.InsertOneResult at 0x26a0699f448>"
      ]
     },
     "execution_count": 57,
     "metadata": {},
     "output_type": "execute_result"
    }
   ],
   "source": [
    "# Drop/Create 'table_nasa_mars_featured_image'\n",
    "# then insert 'nasa_mars_featured_image' into database document collections table\n",
    "db.table_nasa_mars_featured_image.drop()\n",
    "db.table_nasa_mars_featured_image.insert_one(nasa_mars_featured_image)"
   ]
  },
  {
   "cell_type": "code",
   "execution_count": 61,
   "metadata": {},
   "outputs": [
    {
     "data": {
      "text/plain": [
       "[{'_id': ObjectId('5bef7d7a20276f0890ed336c'),\n",
       "  'nasa_mars_featured_image_url': 'https://www.jpl.nasa.gov/spaceimages/images/largesize/PIA18899_hires.jpg'}]"
      ]
     },
     "execution_count": 61,
     "metadata": {},
     "output_type": "execute_result"
    }
   ],
   "source": [
    "list(db.table_nasa_mars_featured_image.find())"
   ]
  },
  {
   "cell_type": "markdown",
   "metadata": {},
   "source": [
    "### Mars Weather"
   ]
  },
  {
   "cell_type": "code",
   "execution_count": 59,
   "metadata": {},
   "outputs": [
    {
     "data": {
      "text/plain": [
       "<pymongo.results.InsertOneResult at 0x26a05c2e808>"
      ]
     },
     "execution_count": 59,
     "metadata": {},
     "output_type": "execute_result"
    }
   ],
   "source": [
    "# Drop/Create 'table_twitter_mars_weather'\n",
    "# then insert 'twitter_mars_weather' into database document collections table\n",
    "db.table_twitter_mars_weather.drop()\n",
    "db.table_twitter_mars_weather.insert_one(twitter_mars_weather)"
   ]
  },
  {
   "cell_type": "code",
   "execution_count": 60,
   "metadata": {},
   "outputs": [
    {
     "data": {
      "text/plain": [
       "[{'_id': ObjectId('5bef7e0f20276f0890ed336d'),\n",
       "  'mars_weather': 'Sol 2229 (2018-11-13), high -2C/28F, low -71C/-95F, pressure at 8.62 hPa, daylight 06:22-18:39'}]"
      ]
     },
     "execution_count": 60,
     "metadata": {},
     "output_type": "execute_result"
    }
   ],
   "source": [
    "list(db.table_twitter_mars_weather.find())"
   ]
  },
  {
   "cell_type": "markdown",
   "metadata": {},
   "source": [
    "### Mars Facts"
   ]
  },
  {
   "cell_type": "code",
   "execution_count": 62,
   "metadata": {},
   "outputs": [
    {
     "data": {
      "text/plain": [
       "<pymongo.results.InsertOneResult at 0x26a070547c8>"
      ]
     },
     "execution_count": 62,
     "metadata": {},
     "output_type": "execute_result"
    }
   ],
   "source": [
    "db.table_mars_facts.drop()\n",
    "db.table_mars_facts.insert_one(mars_facts)"
   ]
  },
  {
   "cell_type": "code",
   "execution_count": 63,
   "metadata": {},
   "outputs": [
    {
     "data": {
      "text/plain": [
       "[{'_id': ObjectId('5bef7e4c20276f0890ed336e'), 'table_url': 'table.html'}]"
      ]
     },
     "execution_count": 63,
     "metadata": {},
     "output_type": "execute_result"
    }
   ],
   "source": [
    "list(db.table_mars_facts.find())"
   ]
  },
  {
   "cell_type": "markdown",
   "metadata": {},
   "source": [
    "### Mars Hemispheres"
   ]
  },
  {
   "cell_type": "code",
   "execution_count": 64,
   "metadata": {},
   "outputs": [
    {
     "data": {
      "text/plain": [
       "<pymongo.results.InsertManyResult at 0x26a05a62ec8>"
      ]
     },
     "execution_count": 64,
     "metadata": {},
     "output_type": "execute_result"
    }
   ],
   "source": [
    "# Drop/Create 'table_nasa_mars_hemisphere_image_urls'\n",
    "# then insert 'nasa_mars_hemisphere_image_urls' into database document collections table\n",
    "db.table_nasa_mars_hemisphere_image_urls.drop()\n",
    "db.table_nasa_mars_hemisphere_image_urls.insert_many(nasa_mars_hemisphere_image_urls)"
   ]
  },
  {
   "cell_type": "code",
   "execution_count": 65,
   "metadata": {},
   "outputs": [
    {
     "data": {
      "text/plain": [
       "[{'_id': ObjectId('5bef7e5520276f0890ed336f'),\n",
       "  'title': 'Cerberus Hemisphere Enhanced',\n",
       "  'image_url': 'http://astropedia.astrogeology.usgs.gov/download/Mars/Viking/cerberus_enhanced.tif/full.jpg'},\n",
       " {'_id': ObjectId('5bef7e5520276f0890ed3370'),\n",
       "  'title': 'Schiaparelli Hemisphere Enhanced',\n",
       "  'image_url': 'http://astropedia.astrogeology.usgs.gov/download/Mars/Viking/schiaparelli_enhanced.tif/full.jpg'},\n",
       " {'_id': ObjectId('5bef7e5520276f0890ed3371'),\n",
       "  'title': 'Syrtis Major Hemisphere Enhanced',\n",
       "  'image_url': 'http://astropedia.astrogeology.usgs.gov/download/Mars/Viking/syrtis_major_enhanced.tif/full.jpg'},\n",
       " {'_id': ObjectId('5bef7e5520276f0890ed3372'),\n",
       "  'title': 'Valles Marineris Hemisphere Enhanced',\n",
       "  'image_url': 'http://astropedia.astrogeology.usgs.gov/download/Mars/Viking/valles_marineris_enhanced.tif/full.jpg'}]"
      ]
     },
     "execution_count": 65,
     "metadata": {},
     "output_type": "execute_result"
    }
   ],
   "source": [
    "list(db.table_nasa_mars_hemisphere_image_urls.find())"
   ]
  },
  {
   "cell_type": "markdown",
   "metadata": {},
   "source": [
    "### NASA Mars News"
   ]
  },
  {
   "cell_type": "code",
   "execution_count": 66,
   "metadata": {},
   "outputs": [
    {
     "data": {
      "text/plain": [
       "<pymongo.results.InsertManyResult at 0x26a05a62f08>"
      ]
     },
     "execution_count": 66,
     "metadata": {},
     "output_type": "execute_result"
    }
   ],
   "source": [
    "# Drop/Create 'table_nasa_news' (if it does not exist) then insert 'nasa_mars_news' \n",
    "# into database document collections table\n",
    "db.table_nasa_mars_news.drop()\n",
    "db.table_nasa_mars_news.insert_many(nasa_mars_news)"
   ]
  },
  {
   "cell_type": "code",
   "execution_count": 67,
   "metadata": {},
   "outputs": [
    {
     "data": {
      "text/plain": [
       "[{'_id': ObjectId('5bef7e7c20276f0890ed3373'),\n",
       "  'NASA to Host Media Call on Next Mars Landing Site': 'NASA will host a media teleconference at 9 a.m. PST (noon EST) Monday, Nov. 19, to provide details about the Mars 2020 rover’s landing site on the Red Planet.'},\n",
       " {'_id': ObjectId('5bef7e7c20276f0890ed3374'),\n",
       "  'How NASA Will Know When InSight Touches Down': 'On Nov. 26, engineers will look for a combination of signals to determine whether the next spacecraft to Mars lands safely.'},\n",
       " {'_id': ObjectId('5bef7e7c20276f0890ed3375'),\n",
       "  'NASA Brings Mars Landing to Viewers Everywhere': \"NASA's InSight lander is scheduled to touch down on the Red Planet at approximately noon PST  on Nov. 26, with a new suite of instruments to probe below the Martian surface.\"},\n",
       " {'_id': ObjectId('5bef7e7c20276f0890ed3376'),\n",
       "  'Curiosity on the Move Again': \"NASA's Mars Curiosity rover drove about 197 feet over the weekend to a site called Lake Orcadie, pushing its total odometry to over 12 miles.\"},\n",
       " {'_id': ObjectId('5bef7e7c20276f0890ed3377'),\n",
       "  'The Mars InSight Landing Site Is Just Plain Perfect': 'If the InSight landing zone were ice cream, it would be vanilla.'},\n",
       " {'_id': ObjectId('5bef7e7c20276f0890ed3378'),\n",
       "  \"Five Things to Know About InSight's Mars Landing\": \"NASA engineers will be holding their breath when their spacecraft heads into Mars' atmosphere on Nov. 26.\"},\n",
       " {'_id': ObjectId('5bef7e7c20276f0890ed3379'),\n",
       "  'NASA Launches a New Podcast to Mars': \"NASA's new eight-episode series 'On a Mission' follows the InSight spacecraft on its journey to Mars and details the extraordinary challenges of landing on the Red Planet.\"},\n",
       " {'_id': ObjectId('5bef7e7c20276f0890ed337a'),\n",
       "  'Update on Opportunity Rover Recovery Efforts': 'After a review of the progress of the listening campaign, NASA will continue its current strategy for attempting to make contact with the Opportunity rover for the foreseeable future.'},\n",
       " {'_id': ObjectId('5bef7e7c20276f0890ed337b'),\n",
       "  'Third ASPIRE Test Confirms Mars 2020 Parachute a Go': 'The supersonic parachute that will handle the heaviest payload yet to the Red Planet – Mars 2020 rover – passes its final sounding rocket test with flying colors.'},\n",
       " {'_id': ObjectId('5bef7e7c20276f0890ed337c'),\n",
       "  'NASA to Host Briefing on November Mars InSight Landing': \"A briefing on NASA's upcoming InSight Mars landing will air on Wed. Oct. 31 at 1:30 p.m. EDT (10:30 a.m. PDT) on NASA TV, the agency's website and NASA InSight Facebook Page.\"},\n",
       " {'_id': ObjectId('5bef7e7c20276f0890ed337d'),\n",
       "  \"NASA's InSight Will Study Mars While Standing Still\": \"The lander's unique science can teach us how planets are born.\"},\n",
       " {'_id': ObjectId('5bef7e7c20276f0890ed337e'),\n",
       "  \"NASA's First Image of Mars from a CubeSat\": 'The image was produced by one of the twin briefcase-sized MarCO spacecraft, the first CubeSats to fly to deep space.'},\n",
       " {'_id': ObjectId('5bef7e7c20276f0890ed337f'),\n",
       "  \"The 'Claw Game' on Mars: NASA InSight Plays to Win\": \"NASA's InSight lander will be the first mission to use a robotic arm to grasp instruments from the spacecraft and place them on the surface of another planet. \"},\n",
       " {'_id': ObjectId('5bef7e7c20276f0890ed3380'),\n",
       "  'Scientists to Debate Landing Site for Next Mars Rover': \"Hundreds of scientists and Mars-exploration enthusiasts gather this week to present, discuss and deliberate the future landing site for NASA's next Red Planet. \"},\n",
       " {'_id': ObjectId('5bef7e7c20276f0890ed3381'),\n",
       "  'Mars Virtual Reality Software Wins NASA Award': \"A mixed-reality software that allows scientists and engineers to virtually walk on Mars has received NASA's 2018 Software of the Year Award.\"},\n",
       " {'_id': ObjectId('5bef7e7c20276f0890ed3382'),\n",
       "  'Painting Cars for Mars': \"What does NASA do to get a rover ready for Mars? JPL's paint shop does a thousand different paint jobs a year. And while every piece of spacecraft that comes through the shop is important, one headed for the Red Planet adds a little extra oomph.\"},\n",
       " {'_id': ObjectId('5bef7e7c20276f0890ed3383'),\n",
       "  'Opportunity Emerges in a Dusty Picture': \"NASA still hasn't heard from the Opportunity rover, but at least the agency can see it again.\"},\n",
       " {'_id': ObjectId('5bef7e7c20276f0890ed3384'),\n",
       "  'NASA Seeking Partner in Contest to Name Next Mars Rover': 'NASA has a class assignment for corporations, nonprofits and educational organizations involved in science and space exploration: partner with the agency to inspire future engineers and scientists by sponsoring a contest to name the next rover to venture to the Red Planet.'},\n",
       " {'_id': ObjectId('5bef7e7c20276f0890ed3385'),\n",
       "  \"NASA's MAVEN Selfie Marks Four Years in Orbit at Mars\": 'NASA’s MAVEN spacecraft celebrates four years in Mars orbit with a selfie.'},\n",
       " {'_id': ObjectId('5bef7e7c20276f0890ed3386'),\n",
       "  'MarCO Makes Space for Small Explorers': 'A pair of NASA CubeSats flying to Mars are opening a new frontier for small spacecraft.'},\n",
       " {'_id': ObjectId('5bef7e7c20276f0890ed3387'),\n",
       "  'Curiosity Surveys a Mystery Under Dusty Skies': \"NASA's Curiosity rover surveyed its surroundings on Mars, producing a 360-degree panorama of its current location on Vera Rubin Ridge.\"},\n",
       " {'_id': ObjectId('5bef7e7c20276f0890ed3388'),\n",
       "  \"NASA's InSight Has a Thermometer for Mars\": \"The mission's heat probe could reveal how the planet's towering volcanoes formed.\"},\n",
       " {'_id': ObjectId('5bef7e7c20276f0890ed3389'),\n",
       "  'Digital Creators: Apply for NASA Mars Landing Event': \"Up to 30 multimedia participants will be selected for a special two-day event at JPL culminating in the InSight spacecraft's landing on Mars. Apply by Sept. 3.\"},\n",
       " {'_id': ObjectId('5bef7e7c20276f0890ed338a'),\n",
       "  \"NASA's InSight Passes Halfway to Mars, Instruments Check In\": \"NASA's InSight spacecraft, en route to a Nov. 26 landing on Mars, passed the halfway mark on Aug. 6. All of its instruments have been tested and are working well.\"},\n",
       " {'_id': ObjectId('5bef7e7c20276f0890ed338b'),\n",
       "  \"Six Things About Opportunity's Recovery Efforts\": 'The global dust storm on Mars could soon let in enough sunlight for the Opportunity rover to recharge.'},\n",
       " {'_id': ObjectId('5bef7e7c20276f0890ed338c'),\n",
       "  \"Meet the People Behind NASA's InSight Mars Lander\": 'A series of NASA videos highlight scientists and engineers leading the next mission to Mars.'},\n",
       " {'_id': ObjectId('5bef7e7c20276f0890ed338d'),\n",
       "  'Mars Terraforming Not Possible Using Present-Day Technology': 'Transforming the inhospitable Martian environment into a place astronauts could explore without life support is not possible without technology well beyond today’s capabilities.'},\n",
       " {'_id': ObjectId('5bef7e7c20276f0890ed338e'),\n",
       "  'Opportunity Hunkers Down During Dust Storm': \"It's the beginning of the end for the planet-encircling dust storm on Mars. But it could still be weeks, or even months, before skies are clear enough for NASA's Opportunity rover to recharge its batteries and phone home. \"},\n",
       " {'_id': ObjectId('5bef7e7c20276f0890ed338f'),\n",
       "  'NASA Statement on Possible Subsurface Lake near Martian South Pole': \"A new paper suggests that liquid water may be sitting under a layer of ice at Mars' south pole.\"},\n",
       " {'_id': ObjectId('5bef7e7c20276f0890ed3390'),\n",
       "  \"JPL's 'Martians' Are Coming to Griffith Observatory\": \"On July 30, when Mars and Earth are closer than they've been since 2003, JPL scientists and engineers will be at a free public event at Griffith Observatory in Los Angeles.\"},\n",
       " {'_id': ObjectId('5bef7e7c20276f0890ed3391'),\n",
       "  \"NASA's MAVEN Spacecraft Finds That 'Stolen' Electrons Enable Unusual Aurora on Mars\": 'Auroras appear on Earth as ghostly displays of colorful light in the night sky, usually near the poles.'},\n",
       " {'_id': ObjectId('5bef7e7c20276f0890ed3392'),\n",
       "  \"'Storm Chasers' on Mars Searching for Dusty Secrets\": \"Scientists with NASA's Mars orbiters have been waiting years for an event like the current Mars global dust storm.\"},\n",
       " {'_id': ObjectId('5bef7e7c20276f0890ed3393'),\n",
       "  'NASA Mars Mission Adds Southern California Dates': \"Looking for summer fun? Southern California families have their choice of the beach, movies, museums -- and even NASA's next mission to Mars.\"},\n",
       " {'_id': ObjectId('5bef7e7c20276f0890ed3394'),\n",
       "  'Curiosity Captures Photos of Thickening Dust': 'A storm of tiny dust particles has engulfed much of Mars over the last two weeks.'},\n",
       " {'_id': ObjectId('5bef7e7c20276f0890ed3395'),\n",
       "  'NASA Encounters the Perfect Storm for Science': 'One of the most intense Martian dust storms ever observed is being studied by a record number of NASA spacecraft.'},\n",
       " {'_id': ObjectId('5bef7e7c20276f0890ed3396'),\n",
       "  'Media Telecon About Mars Dust Storm, Opportunity': 'NASA will host a media telecon on Wednesday, June 13, about a massive Martian dust storm affecting the Opportunity rover, and how various missions can obtain unique science.'},\n",
       " {'_id': ObjectId('5bef7e7c20276f0890ed3397'),\n",
       "  'NASA Finds Ancient Organic Material, Mysterious Methane on Mars': 'NASA’s Curiosity rover has found evidence on Mars with implications for NASA’s search for life.'},\n",
       " {'_id': ObjectId('5bef7e7c20276f0890ed3398'),\n",
       "  'NASA to Host Live Discussion on New Mars Science Results': \"Questions are welcome during a live discussion at 11 a.m. PDT (2 p.m. EDT) Thursday, June 7, on new science results from NASA's Mars Curiosity rover.\"},\n",
       " {'_id': ObjectId('5bef7e7c20276f0890ed3399'),\n",
       "  \"Mars Curiosity's Labs Are Back in Action\": \"NASA's Curiosity rover is analyzing drilled samples on Mars in one of its onboard labs for the first time in more than a year.\"},\n",
       " {'_id': ObjectId('5bef7e7c20276f0890ed339a'),\n",
       "  'NASA CubeSats Steer Toward Mars': 'NASA has achieved a first for the class of tiny spacecraft known as CubeSats, which are opening new access to space.'},\n",
       " {'_id': ObjectId('5bef7e7c20276f0890ed339b'),\n",
       "  'NASA is Ready to Study the Heart of Mars': 'NASA is about to go on a journey to study the center of Mars.'},\n",
       " {'_id': ObjectId('5bef7e7c20276f0890ed339c'),\n",
       "  'NASA Briefing on First Mission to Study Mars Interior': 'NASA’s next mission to Mars will be the topic of a media briefing Thursday, March 29, at JPL. The briefing will air live on NASA Television and the agency’s website.'},\n",
       " {'_id': ObjectId('5bef7e7c20276f0890ed339d'),\n",
       "  \"New 'AR' Mobile App Features 3-D NASA Spacecraft\": \"NASA spacecraft travel to far-off destinations in space, but a new mobile app produced by NASA's Jet Propulsion Laboratory, Pasadena, California, brings spacecraft to users.\"},\n",
       " {'_id': ObjectId('5bef7e7c20276f0890ed339e'),\n",
       "  'Opportunity Hunkers Down During Dust Storm': \"It's the beginning of the end for the planet-encircling dust storm on Mars. But it could still be weeks, or even months, before skies are clear enough for NASA's Opportunity rover to recharge its batteries and phone home. \"},\n",
       " {'_id': ObjectId('5bef7e7c20276f0890ed339f'),\n",
       "  'NASA Finds Ancient Organic Material, Mysterious Methane on Mars': 'NASA’s Curiosity rover has found evidence on Mars with implications for NASA’s search for life.'},\n",
       " {'_id': ObjectId('5bef7e7c20276f0890ed33a0'),\n",
       "  'NASA Invests in Visionary Technology ': 'NASA is investing in technology concepts, including several from JPL, that may one day be used for future space exploration missions.'},\n",
       " {'_id': ObjectId('5bef7e7c20276f0890ed33a1'),\n",
       "  'NASA is Ready to Study the Heart of Mars': 'NASA is about to go on a journey to study the center of Mars.'},\n",
       " {'_id': ObjectId('5bef7e7c20276f0890ed33a2'),\n",
       "  'NASA Briefing on First Mission to Study Mars Interior': 'NASA’s next mission to Mars will be the topic of a media briefing Thursday, March 29, at JPL. The briefing will air live on NASA Television and the agency’s website.'},\n",
       " {'_id': ObjectId('5bef7e7c20276f0890ed33a3'),\n",
       "  \"New 'AR' Mobile App Features 3-D NASA Spacecraft\": \"NASA spacecraft travel to far-off destinations in space, but a new mobile app produced by NASA's Jet Propulsion Laboratory, Pasadena, California, brings spacecraft to users.\"},\n",
       " {'_id': ObjectId('5bef7e7c20276f0890ed33a4'),\n",
       "  'Opportunity Hunkers Down During Dust Storm': \"It's the beginning of the end for the planet-encircling dust storm on Mars. But it could still be weeks, or even months, before skies are clear enough for NASA's Opportunity rover to recharge its batteries and phone home. \"},\n",
       " {'_id': ObjectId('5bef7e7c20276f0890ed33a5'),\n",
       "  'NASA Finds Ancient Organic Material, Mysterious Methane on Mars': 'NASA’s Curiosity rover has found evidence on Mars with implications for NASA’s search for life.'},\n",
       " {'_id': ObjectId('5bef7e7c20276f0890ed33a6'),\n",
       "  'NASA Invests in Visionary Technology ': 'NASA is investing in technology concepts, including several from JPL, that may one day be used for future space exploration missions.'}]"
      ]
     },
     "execution_count": 67,
     "metadata": {},
     "output_type": "execute_result"
    }
   ],
   "source": [
    "list(db.table_nasa_mars_news.find())"
   ]
  },
  {
   "cell_type": "code",
   "execution_count": 74,
   "metadata": {},
   "outputs": [
    {
     "data": {
      "text/plain": [
       "['table_twitter_mars_weather',\n",
       " 'table_nasa_mars_featured_image',\n",
       " 'collection',\n",
       " 'table_nasa_mars_hemisphere_image_urls',\n",
       " 'table_mars_facts',\n",
       " 'table_nasa_mars_news']"
      ]
     },
     "execution_count": 74,
     "metadata": {},
     "output_type": "execute_result"
    }
   ],
   "source": [
    "db.list_collection_names()"
   ]
  },
  {
   "cell_type": "code",
   "execution_count": 69,
   "metadata": {},
   "outputs": [
    {
     "data": {
      "text/plain": [
       "['ClassDB',\n",
       " 'admin',\n",
       " 'config',\n",
       " 'dumpster_db',\n",
       " 'fruitDB',\n",
       " 'local',\n",
       " 'nasa_mars_landing_db',\n",
       " 'store_inventory',\n",
       " 'traveldb']"
      ]
     },
     "execution_count": 69,
     "metadata": {},
     "output_type": "execute_result"
    }
   ],
   "source": [
    "client.list_database_names()"
   ]
  },
  {
   "cell_type": "code",
   "execution_count": 70,
   "metadata": {},
   "outputs": [
    {
     "name": "stdout",
     "output_type": "stream",
     "text": [
      "The database exists.\n"
     ]
    }
   ],
   "source": [
    "if 'nasa_mars_landing_db' in client.list_database_names():\n",
    "  print(\"The database exists.\")"
   ]
  },
  {
   "cell_type": "code",
   "execution_count": 77,
   "metadata": {},
   "outputs": [
    {
     "name": "stderr",
     "output_type": "stream",
     "text": [
      "[NbConvertApp] Converting notebook mission_to_mars-Copy1.ipynb to python\n",
      "[NbConvertApp] Writing 8443 bytes to mission_to_mars-Copy1.py\n"
     ]
    }
   ],
   "source": [
    "!jupyter nbconvert --to=python mission_to_mars-Copy1.ipynb"
   ]
  },
  {
   "cell_type": "code",
   "execution_count": null,
   "metadata": {},
   "outputs": [],
   "source": []
  }
 ],
 "metadata": {
  "kernelspec": {
   "display_name": "Python 3",
   "language": "python",
   "name": "python3"
  },
  "language_info": {
   "codemirror_mode": {
    "name": "ipython",
    "version": 3
   },
   "file_extension": ".py",
   "mimetype": "text/x-python",
   "name": "python",
   "nbconvert_exporter": "python",
   "pygments_lexer": "ipython3",
   "version": "3.6.5"
  }
 },
 "nbformat": 4,
 "nbformat_minor": 2
}
