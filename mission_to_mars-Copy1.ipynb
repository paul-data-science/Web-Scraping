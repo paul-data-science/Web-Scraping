{
 "cells": [
  {
   "cell_type": "code",
   "execution_count": 4,
   "metadata": {},
   "outputs": [],
   "source": [
    "# Dependencies\n",
    "from bs4 import BeautifulSoup\n",
    "from splinter import Browser\n",
    "import pymongo"
   ]
  },
  {
   "cell_type": "code",
   "execution_count": 2,
   "metadata": {},
   "outputs": [],
   "source": [
    "# Initialize PyMongo to work with MongoDBs\n",
    "conn = 'mongodb://localhost:27017'\n",
    "client = pymongo.MongoClient(conn)"
   ]
  },
  {
   "cell_type": "code",
   "execution_count": 3,
   "metadata": {},
   "outputs": [],
   "source": [
    "# Define database and collection\n",
    "db = client.nasa_mars_landing_db\n",
    "collection = db.articles"
   ]
  },
  {
   "cell_type": "code",
   "execution_count": 5,
   "metadata": {},
   "outputs": [],
   "source": [
    "executable_path = {'executable_path': '\\\\Users\\\\Paul-DS\\\\Downloads\\\\chromedriver.exe'}\n",
    "browser = Browser('chrome', **executable_path, headless=False)"
   ]
  },
  {
   "cell_type": "markdown",
   "metadata": {},
   "source": [
    "### NASA Mars News"
   ]
  },
  {
   "cell_type": "code",
   "execution_count": 2,
   "metadata": {},
   "outputs": [],
   "source": [
    "url = 'https://mars.nasa.gov/news/'"
   ]
  },
  {
   "cell_type": "code",
   "execution_count": 4,
   "metadata": {},
   "outputs": [],
   "source": [
    "# Retrieve page with splinter module\n",
    "browser.visit(url)\n",
    "\n",
    "# Create BeautifulSoup object; parse with html\n",
    "html = browser.html\n",
    "soup = BeautifulSoup(html, 'html.parser')"
   ]
  },
  {
   "cell_type": "code",
   "execution_count": 6,
   "metadata": {},
   "outputs": [
    {
     "name": "stdout",
     "output_type": "stream",
     "text": [
      "News  – NASA’s Mars Exploration Program \n"
     ]
    }
   ],
   "source": [
    "# Extract title text\n",
    "title = soup.title.text\n",
    "print(title)"
   ]
  },
  {
   "cell_type": "code",
   "execution_count": 34,
   "metadata": {},
   "outputs": [],
   "source": [
    "# Examine the results, then determine element that contains news info\n",
    "# results are returned as an iterable list\n",
    "nasa_news = []\n",
    "results = soup.find_all('div', class_=\"image_and_description_container\")\n",
    "for result in results:\n",
    "    mars_news = {}\n",
    "    news_link=result.find('a')\n",
    "    #print(news_link.text)\n",
    "    news_summary=news_link.find('div', class_=\"rollover_description_inner\").text.strip('\\n')\n",
    "    try:\n",
    "        news_title=news_link.h3.text\n",
    "    except AttributeError:  # When H3 tag not available then use Alt tag\n",
    "        news_title_img=news_link.find_all('img',alt=True)\n",
    "        news_title=news_title_img[1]['alt'] \n",
    "    mars_news[news_title]=news_summary\n",
    "    nasa_news.append(mars_news)"
   ]
  },
  {
   "cell_type": "code",
   "execution_count": 35,
   "metadata": {},
   "outputs": [
    {
     "data": {
      "text/plain": [
       "[{'Curiosity on the Move Again': \"NASA's Mars Curiosity rover drove about 197 feet over the weekend to a site called Lake Orcadie, pushing its total odometry to over 12 miles.\"},\n",
       " {'The Mars InSight Landing Site Is Just Plain Perfect': 'If the InSight landing zone were ice cream, it would be vanilla.'},\n",
       " {\"Five Things to Know About InSight's Mars Landing\": \"NASA engineers will be holding their breath when their spacecraft heads into Mars' atmosphere on Nov. 26.\"},\n",
       " {'NASA Launches a New Podcast to Mars': \"NASA's new eight-episode series 'On a Mission' follows the InSight spacecraft on its journey to Mars and details the extraordinary challenges of landing on the Red Planet.\"},\n",
       " {'Update on Opportunity Rover Recovery Efforts': 'After a review of the progress of the listening campaign, NASA will continue its current strategy for attempting to make contact with the Opportunity rover for the foreseeable future.'},\n",
       " {'Third ASPIRE Test Confirms Mars 2020 Parachute a Go': 'The supersonic parachute that will handle the heaviest payload yet to the Red Planet – Mars 2020 rover – passes its final sounding rocket test with flying colors.'},\n",
       " {'NASA to Host Briefing on November Mars InSight Landing': \"A briefing on NASA's upcoming InSight Mars landing will air on Wed. Oct. 31 at 1:30 p.m. EDT (10:30 a.m. PDT) on NASA TV, the agency's website and NASA InSight Facebook Page.\"},\n",
       " {\"NASA's InSight Will Study Mars While Standing Still\": \"The lander's unique science can teach us how planets are born.\"},\n",
       " {\"NASA's First Image of Mars from a CubeSat\": 'The image was produced by one of the twin briefcase-sized MarCO spacecraft, the first CubeSats to fly to deep space.'},\n",
       " {\"The 'Claw Game' on Mars: NASA InSight Plays to Win\": \"NASA's InSight lander will be the first mission to use a robotic arm to grasp instruments from the spacecraft and place them on the surface of another planet. \"},\n",
       " {'Scientists to Debate Landing Site for Next Mars Rover': \"Hundreds of scientists and Mars-exploration enthusiasts gather this week to present, discuss and deliberate the future landing site for NASA's next Red Planet. \"},\n",
       " {'Mars Virtual Reality Software Wins NASA Award': \"A mixed-reality software that allows scientists and engineers to virtually walk on Mars has received NASA's 2018 Software of the Year Award.\"},\n",
       " {'Painting Cars for Mars': \"What does NASA do to get a rover ready for Mars? JPL's paint shop does a thousand different paint jobs a year. And while every piece of spacecraft that comes through the shop is important, one headed for the Red Planet adds a little extra oomph.\"},\n",
       " {'Opportunity Emerges in a Dusty Picture': \"NASA still hasn't heard from the Opportunity rover, but at least the agency can see it again.\"},\n",
       " {'NASA Seeking Partner in Contest to Name Next Mars Rover': 'NASA has a class assignment for corporations, nonprofits and educational organizations involved in science and space exploration: partner with the agency to inspire future engineers and scientists by sponsoring a contest to name the next rover to venture to the Red Planet.'},\n",
       " {\"NASA's MAVEN Selfie Marks Four Years in Orbit at Mars\": 'NASA’s MAVEN spacecraft celebrates four years in Mars orbit with a selfie.'},\n",
       " {'MarCO Makes Space for Small Explorers': 'A pair of NASA CubeSats flying to Mars are opening a new frontier for small spacecraft.'},\n",
       " {'Curiosity Surveys a Mystery Under Dusty Skies': \"NASA's Curiosity rover surveyed its surroundings on Mars, producing a 360-degree panorama of its current location on Vera Rubin Ridge.\"},\n",
       " {\"NASA's InSight Has a Thermometer for Mars\": \"The mission's heat probe could reveal how the planet's towering volcanoes formed.\"},\n",
       " {'Digital Creators: Apply for NASA Mars Landing Event': \"Up to 30 multimedia participants will be selected for a special two-day event at JPL culminating in the InSight spacecraft's landing on Mars. Apply by Sept. 3.\"},\n",
       " {\"NASA's InSight Passes Halfway to Mars, Instruments Check In\": \"NASA's InSight spacecraft, en route to a Nov. 26 landing on Mars, passed the halfway mark on Aug. 6. All of its instruments have been tested and are working well.\"},\n",
       " {\"Six Things About Opportunity's Recovery Efforts\": 'The global dust storm on Mars could soon let in enough sunlight for the Opportunity rover to recharge.'},\n",
       " {\"Meet the People Behind NASA's InSight Mars Lander\": 'A series of NASA videos highlight scientists and engineers leading the next mission to Mars.'},\n",
       " {'Mars Terraforming Not Possible Using Present-Day Technology': 'Transforming the inhospitable Martian environment into a place astronauts could explore without life support is not possible without technology well beyond today’s capabilities.'},\n",
       " {'Opportunity Hunkers Down During Dust Storm': \"It's the beginning of the end for the planet-encircling dust storm on Mars. But it could still be weeks, or even months, before skies are clear enough for NASA's Opportunity rover to recharge its batteries and phone home. \"},\n",
       " {'NASA Statement on Possible Subsurface Lake near Martian South Pole': \"A new paper suggests that liquid water may be sitting under a layer of ice at Mars' south pole.\"},\n",
       " {\"JPL's 'Martians' Are Coming to Griffith Observatory\": \"On July 30, when Mars and Earth are closer than they've been since 2003, JPL scientists and engineers will be at a free public event at Griffith Observatory in Los Angeles.\"},\n",
       " {\"NASA's MAVEN Spacecraft Finds That 'Stolen' Electrons Enable Unusual Aurora on Mars\": 'Auroras appear on Earth as ghostly displays of colorful light in the night sky, usually near the poles.'},\n",
       " {\"'Storm Chasers' on Mars Searching for Dusty Secrets\": \"Scientists with NASA's Mars orbiters have been waiting years for an event like the current Mars global dust storm.\"},\n",
       " {'NASA Mars Mission Adds Southern California Dates': \"Looking for summer fun? Southern California families have their choice of the beach, movies, museums -- and even NASA's next mission to Mars.\"},\n",
       " {'Curiosity Captures Photos of Thickening Dust': 'A storm of tiny dust particles has engulfed much of Mars over the last two weeks.'},\n",
       " {'NASA Encounters the Perfect Storm for Science': 'One of the most intense Martian dust storms ever observed is being studied by a record number of NASA spacecraft.'},\n",
       " {'Media Telecon About Mars Dust Storm, Opportunity': 'NASA will host a media telecon on Wednesday, June 13, about a massive Martian dust storm affecting the Opportunity rover, and how various missions can obtain unique science.'},\n",
       " {'NASA Finds Ancient Organic Material, Mysterious Methane on Mars': 'NASA’s Curiosity rover has found evidence on Mars with implications for NASA’s search for life.'},\n",
       " {'NASA to Host Live Discussion on New Mars Science Results': \"Questions are welcome during a live discussion at 11 a.m. PDT (2 p.m. EDT) Thursday, June 7, on new science results from NASA's Mars Curiosity rover.\"},\n",
       " {\"Mars Curiosity's Labs Are Back in Action\": \"NASA's Curiosity rover is analyzing drilled samples on Mars in one of its onboard labs for the first time in more than a year.\"},\n",
       " {'NASA CubeSats Steer Toward Mars': 'NASA has achieved a first for the class of tiny spacecraft known as CubeSats, which are opening new access to space.'},\n",
       " {'Scientists Shrink Chemistry Lab to Seek Evidence of Life on Mars': 'An international team of scientists has created a tiny chemistry lab for a rover that will drill beneath the Martian surface looking for signs of past or present life.'},\n",
       " {'InSight Steers Toward Mars': 'The spacecraft has completed its first trajectory correction maneuver.'},\n",
       " {'Drilling Success: Curiosity is Collecting Mars Rocks': \"Engineers will now test delivering samples to instruments inside NASA's Curiosity Mars rover.\"},\n",
       " {'NASA is Ready to Study the Heart of Mars': 'NASA is about to go on a journey to study the center of Mars.'},\n",
       " {'NASA Briefing on First Mission to Study Mars Interior': 'NASA’s next mission to Mars will be the topic of a media briefing Thursday, March 29, at JPL. The briefing will air live on NASA Television and the agency’s website.'},\n",
       " {\"New 'AR' Mobile App Features 3-D NASA Spacecraft\": \"NASA spacecraft travel to far-off destinations in space, but a new mobile app produced by NASA's Jet Propulsion Laboratory, Pasadena, California, brings spacecraft to users.\"},\n",
       " {'Opportunity Hunkers Down During Dust Storm': \"It's the beginning of the end for the planet-encircling dust storm on Mars. But it could still be weeks, or even months, before skies are clear enough for NASA's Opportunity rover to recharge its batteries and phone home. \"},\n",
       " {'NASA Finds Ancient Organic Material, Mysterious Methane on Mars': 'NASA’s Curiosity rover has found evidence on Mars with implications for NASA’s search for life.'},\n",
       " {'NASA Invests in Visionary Technology ': 'NASA is investing in technology concepts, including several from JPL, that may one day be used for future space exploration missions.'},\n",
       " {'NASA is Ready to Study the Heart of Mars': 'NASA is about to go on a journey to study the center of Mars.'},\n",
       " {'NASA Briefing on First Mission to Study Mars Interior': 'NASA’s next mission to Mars will be the topic of a media briefing Thursday, March 29, at JPL. The briefing will air live on NASA Television and the agency’s website.'},\n",
       " {\"New 'AR' Mobile App Features 3-D NASA Spacecraft\": \"NASA spacecraft travel to far-off destinations in space, but a new mobile app produced by NASA's Jet Propulsion Laboratory, Pasadena, California, brings spacecraft to users.\"},\n",
       " {'Opportunity Hunkers Down During Dust Storm': \"It's the beginning of the end for the planet-encircling dust storm on Mars. But it could still be weeks, or even months, before skies are clear enough for NASA's Opportunity rover to recharge its batteries and phone home. \"},\n",
       " {'NASA Finds Ancient Organic Material, Mysterious Methane on Mars': 'NASA’s Curiosity rover has found evidence on Mars with implications for NASA’s search for life.'},\n",
       " {'NASA Invests in Visionary Technology ': 'NASA is investing in technology concepts, including several from JPL, that may one day be used for future space exploration missions.'}]"
      ]
     },
     "execution_count": 35,
     "metadata": {},
     "output_type": "execute_result"
    }
   ],
   "source": [
    "nasa_news"
   ]
  },
  {
   "cell_type": "markdown",
   "metadata": {},
   "source": [
    "### JPL Mars Space Images - Featured Image"
   ]
  },
  {
   "cell_type": "code",
   "execution_count": 22,
   "metadata": {},
   "outputs": [],
   "source": [
    "url='https://www.jpl.nasa.gov/spaceimages/?search=&category=Mars'\n",
    "main_url='https://www.jpl.nasa.gov'"
   ]
  },
  {
   "cell_type": "code",
   "execution_count": 6,
   "metadata": {},
   "outputs": [],
   "source": [
    "# Retrieve page with splinter module\n",
    "browser.visit(url)\n",
    "\n",
    "# Create BeautifulSoup object; parse with html\n",
    "html = browser.html\n",
    "soup = BeautifulSoup(html, 'html.parser')"
   ]
  },
  {
   "cell_type": "code",
   "execution_count": 23,
   "metadata": {},
   "outputs": [
    {
     "name": "stdout",
     "output_type": "stream",
     "text": [
      "https://www.jpl.nasa.gov/spaceimages/images/wallpaper/PIA17841-1920x1200.jpg\n"
     ]
    }
   ],
   "source": [
    "# Navigate the site and find the image url for the current Featured Mars Image\n",
    "results = soup.find_all('section', class_=\"centered_text clearfix main_feature primary_media_feature single\")\n",
    "for result in results:\n",
    "    news_link=result.find('article')\n",
    "    #print(news_link['style'].split(':')[1].split(\"'\")[1])\n",
    "    image_url=news_link['style'].split(':')[1].split(\"'\")[1]\n",
    "\n",
    "nasa_mars_featured_image_url=main_url+image_url\n",
    "print(nasa_mars_featured_image_url)"
   ]
  },
  {
   "cell_type": "markdown",
   "metadata": {},
   "source": [
    "### Mars Weather"
   ]
  },
  {
   "cell_type": "code",
   "execution_count": 26,
   "metadata": {},
   "outputs": [],
   "source": [
    "url='https://twitter.com/marswxreport?lang=en'"
   ]
  },
  {
   "cell_type": "code",
   "execution_count": 27,
   "metadata": {},
   "outputs": [],
   "source": [
    "# Retrieve page with splinter module\n",
    "browser.visit(url)\n",
    "\n",
    "# Create BeautifulSoup object; parse with html\n",
    "html = browser.html\n",
    "soup = BeautifulSoup(html, 'html.parser')"
   ]
  },
  {
   "cell_type": "code",
   "execution_count": 42,
   "metadata": {},
   "outputs": [
    {
     "name": "stdout",
     "output_type": "stream",
     "text": [
      "Sol 2220 (2018-11-04), high -10C/14F, low -73C/-99F, pressure at 8.66 hPa, daylight 06:16-18:33\n"
     ]
    }
   ],
   "source": [
    "# Scrape the latest Mars weather tweet from the page. \n",
    "# Save the tweet text for the weather report as a variable called `mars_weather`.\n",
    "\n",
    "# Get first Top tweet on twitter page\n",
    "mars_weather = soup.find('div', class_=\"js-tweet-text-container\").p.text\n",
    "print(mars_weather)"
   ]
  },
  {
   "cell_type": "markdown",
   "metadata": {},
   "source": [
    "### Mars Facts"
   ]
  },
  {
   "cell_type": "code",
   "execution_count": 61,
   "metadata": {},
   "outputs": [],
   "source": [
    "import pandas as pd"
   ]
  },
  {
   "cell_type": "code",
   "execution_count": 39,
   "metadata": {},
   "outputs": [],
   "source": [
    "mars_space_facts_url = 'https://space-facts.com/mars/'"
   ]
  },
  {
   "cell_type": "code",
   "execution_count": 101,
   "metadata": {},
   "outputs": [
    {
     "data": {
      "text/plain": [
       "[                      0                              1\n",
       " 0  Equatorial Diameter:                       6,792 km\n",
       " 1       Polar Diameter:                       6,752 km\n",
       " 2                 Mass:  6.42 x 10^23 kg (10.7% Earth)\n",
       " 3                Moons:            2 (Phobos & Deimos)\n",
       " 4       Orbit Distance:       227,943,824 km (1.52 AU)\n",
       " 5         Orbit Period:           687 days (1.9 years)\n",
       " 6  Surface Temperature:                  -153 to 20 °C\n",
       " 7         First Record:              2nd millennium BC\n",
       " 8          Recorded By:           Egyptian astronomers]"
      ]
     },
     "execution_count": 101,
     "metadata": {},
     "output_type": "execute_result"
    }
   ],
   "source": [
    "tables = pd.read_html(mars_space_facts_url)\n",
    "tables"
   ]
  },
  {
   "cell_type": "code",
   "execution_count": 86,
   "metadata": {},
   "outputs": [
    {
     "data": {
      "text/plain": [
       "list"
      ]
     },
     "execution_count": 86,
     "metadata": {},
     "output_type": "execute_result"
    }
   ],
   "source": [
    "type(tables)"
   ]
  },
  {
   "cell_type": "code",
   "execution_count": 102,
   "metadata": {},
   "outputs": [
    {
     "data": {
      "text/html": [
       "<div>\n",
       "<style scoped>\n",
       "    .dataframe tbody tr th:only-of-type {\n",
       "        vertical-align: middle;\n",
       "    }\n",
       "\n",
       "    .dataframe tbody tr th {\n",
       "        vertical-align: top;\n",
       "    }\n",
       "\n",
       "    .dataframe thead th {\n",
       "        text-align: right;\n",
       "    }\n",
       "</style>\n",
       "<table border=\"1\" class=\"dataframe\">\n",
       "  <thead>\n",
       "    <tr style=\"text-align: right;\">\n",
       "      <th></th>\n",
       "      <th>Metric</th>\n",
       "      <th>Measurement</th>\n",
       "    </tr>\n",
       "  </thead>\n",
       "  <tbody>\n",
       "    <tr>\n",
       "      <th>0</th>\n",
       "      <td>Equatorial Diameter:</td>\n",
       "      <td>6,792 km</td>\n",
       "    </tr>\n",
       "    <tr>\n",
       "      <th>1</th>\n",
       "      <td>Polar Diameter:</td>\n",
       "      <td>6,752 km</td>\n",
       "    </tr>\n",
       "    <tr>\n",
       "      <th>2</th>\n",
       "      <td>Mass:</td>\n",
       "      <td>6.42 x 10^23 kg (10.7% Earth)</td>\n",
       "    </tr>\n",
       "    <tr>\n",
       "      <th>3</th>\n",
       "      <td>Moons:</td>\n",
       "      <td>2 (Phobos &amp; Deimos)</td>\n",
       "    </tr>\n",
       "    <tr>\n",
       "      <th>4</th>\n",
       "      <td>Orbit Distance:</td>\n",
       "      <td>227,943,824 km (1.52 AU)</td>\n",
       "    </tr>\n",
       "    <tr>\n",
       "      <th>5</th>\n",
       "      <td>Orbit Period:</td>\n",
       "      <td>687 days (1.9 years)</td>\n",
       "    </tr>\n",
       "    <tr>\n",
       "      <th>6</th>\n",
       "      <td>Surface Temperature:</td>\n",
       "      <td>-153 to 20 °C</td>\n",
       "    </tr>\n",
       "    <tr>\n",
       "      <th>7</th>\n",
       "      <td>First Record:</td>\n",
       "      <td>2nd millennium BC</td>\n",
       "    </tr>\n",
       "    <tr>\n",
       "      <th>8</th>\n",
       "      <td>Recorded By:</td>\n",
       "      <td>Egyptian astronomers</td>\n",
       "    </tr>\n",
       "  </tbody>\n",
       "</table>\n",
       "</div>"
      ],
      "text/plain": [
       "                 Metric                    Measurement\n",
       "0  Equatorial Diameter:                       6,792 km\n",
       "1       Polar Diameter:                       6,752 km\n",
       "2                 Mass:  6.42 x 10^23 kg (10.7% Earth)\n",
       "3                Moons:            2 (Phobos & Deimos)\n",
       "4       Orbit Distance:       227,943,824 km (1.52 AU)\n",
       "5         Orbit Period:           687 days (1.9 years)\n",
       "6  Surface Temperature:                  -153 to 20 °C\n",
       "7         First Record:              2nd millennium BC\n",
       "8          Recorded By:           Egyptian astronomers"
      ]
     },
     "execution_count": 102,
     "metadata": {},
     "output_type": "execute_result"
    }
   ],
   "source": [
    "df=tables[0]\n",
    "df.columns=['Metric','Measurement']\n",
    "df"
   ]
  },
  {
   "cell_type": "code",
   "execution_count": 108,
   "metadata": {},
   "outputs": [],
   "source": [
    "df.set_index('Metric',inplace=True)"
   ]
  },
  {
   "cell_type": "code",
   "execution_count": 109,
   "metadata": {},
   "outputs": [
    {
     "data": {
      "text/plain": [
       "Index(['Equatorial Diameter:', 'Polar Diameter:', 'Mass:', 'Moons:',\n",
       "       'Orbit Distance:', 'Orbit Period:', 'Surface Temperature:',\n",
       "       'First Record:', 'Recorded By:'],\n",
       "      dtype='object', name='Metric')"
      ]
     },
     "execution_count": 109,
     "metadata": {},
     "output_type": "execute_result"
    }
   ],
   "source": [
    "df.index"
   ]
  },
  {
   "cell_type": "code",
   "execution_count": 114,
   "metadata": {},
   "outputs": [
    {
     "data": {
      "text/plain": [
       "'<table border=\"1\" class=\"dataframe\">\\n  <thead>\\n    <tr style=\"text-align: right;\">\\n      <th></th>\\n      <th>Measurement</th>\\n    </tr>\\n    <tr>\\n      <th>Metric</th>\\n      <th></th>\\n    </tr>\\n  </thead>\\n  <tbody>\\n    <tr>\\n      <th>Equatorial Diameter:</th>\\n      <td>6,792 km</td>\\n    </tr>\\n    <tr>\\n      <th>Polar Diameter:</th>\\n      <td>6,752 km</td>\\n    </tr>\\n    <tr>\\n      <th>Mass:</th>\\n      <td>6.42 x 10^23 kg (10.7% Earth)</td>\\n    </tr>\\n    <tr>\\n      <th>Moons:</th>\\n      <td>2 (Phobos &amp; Deimos)</td>\\n    </tr>\\n    <tr>\\n      <th>Orbit Distance:</th>\\n      <td>227,943,824 km (1.52 AU)</td>\\n    </tr>\\n    <tr>\\n      <th>Orbit Period:</th>\\n      <td>687 days (1.9 years)</td>\\n    </tr>\\n    <tr>\\n      <th>Surface Temperature:</th>\\n      <td>-153 to 20 °C</td>\\n    </tr>\\n    <tr>\\n      <th>First Record:</th>\\n      <td>2nd millennium BC</td>\\n    </tr>\\n    <tr>\\n      <th>Recorded By:</th>\\n      <td>Egyptian astronomers</td>\\n    </tr>\\n  </tbody>\\n</table>'"
      ]
     },
     "execution_count": 114,
     "metadata": {},
     "output_type": "execute_result"
    }
   ],
   "source": [
    "html_table = df.to_html()\n",
    "html_table"
   ]
  },
  {
   "cell_type": "code",
   "execution_count": 117,
   "metadata": {},
   "outputs": [],
   "source": [
    "html_table=html_table.replace('\\n', '')"
   ]
  },
  {
   "cell_type": "code",
   "execution_count": 118,
   "metadata": {},
   "outputs": [
    {
     "data": {
      "text/plain": [
       "'<table border=\"1\" class=\"dataframe\">  <thead>    <tr style=\"text-align: right;\">      <th></th>      <th>Measurement</th>    </tr>    <tr>      <th>Metric</th>      <th></th>    </tr>  </thead>  <tbody>    <tr>      <th>Equatorial Diameter:</th>      <td>6,792 km</td>    </tr>    <tr>      <th>Polar Diameter:</th>      <td>6,752 km</td>    </tr>    <tr>      <th>Mass:</th>      <td>6.42 x 10^23 kg (10.7% Earth)</td>    </tr>    <tr>      <th>Moons:</th>      <td>2 (Phobos &amp; Deimos)</td>    </tr>    <tr>      <th>Orbit Distance:</th>      <td>227,943,824 km (1.52 AU)</td>    </tr>    <tr>      <th>Orbit Period:</th>      <td>687 days (1.9 years)</td>    </tr>    <tr>      <th>Surface Temperature:</th>      <td>-153 to 20 °C</td>    </tr>    <tr>      <th>First Record:</th>      <td>2nd millennium BC</td>    </tr>    <tr>      <th>Recorded By:</th>      <td>Egyptian astronomers</td>    </tr>  </tbody></table>'"
      ]
     },
     "execution_count": 118,
     "metadata": {},
     "output_type": "execute_result"
    }
   ],
   "source": [
    "html_table"
   ]
  },
  {
   "cell_type": "code",
   "execution_count": 119,
   "metadata": {},
   "outputs": [],
   "source": [
    "df.to_html('table.html')"
   ]
  }
 ],
 "metadata": {
  "kernelspec": {
   "display_name": "Python 3",
   "language": "python",
   "name": "python3"
  },
  "language_info": {
   "codemirror_mode": {
    "name": "ipython",
    "version": 3
   },
   "file_extension": ".py",
   "mimetype": "text/x-python",
   "name": "python",
   "nbconvert_exporter": "python",
   "pygments_lexer": "ipython3",
   "version": "3.6.5"
  }
 },
 "nbformat": 4,
 "nbformat_minor": 2
}
